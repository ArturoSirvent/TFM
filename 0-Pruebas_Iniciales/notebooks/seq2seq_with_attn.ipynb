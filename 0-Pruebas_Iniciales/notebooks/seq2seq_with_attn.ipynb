{
 "cells": [
  {
   "attachments": {},
   "cell_type": "markdown",
   "metadata": {},
   "source": [
    "# Invertir un vector con seq2seq with attention"
   ]
  },
  {
   "cell_type": "code",
   "execution_count": 1,
   "metadata": {},
   "outputs": [],
   "source": [
    "import numpy  as np \n",
    "import matplotlib.pyplot as plt \n",
    "import torch\n",
    "from torch import nn \n",
    "import torch.nn.functional as F\n",
    "import torch.optim as optim\n",
    "from torch.utils.data import TensorDataset,Dataset, DataLoader, random_split, IterableDataset\n",
    "from torch.nn.utils import clip_grad_norm_\n",
    "from torch.optim.lr_scheduler import ExponentialLR\n",
    "import gc\n",
    "import math\n"
   ]
  },
  {
   "cell_type": "code",
   "execution_count": 93,
   "metadata": {},
   "outputs": [],
   "source": [
    "#implementacion de un seq2seq con atencion\n",
    "\n",
    "class EncoderRNN(nn.Module):\n",
    "    #esto nos va a devolver un output y un hidden state\n",
    "    #tenemos tambien un init_hidden para inicializar el hidden state\n",
    "    #nos interesa el tamaño del input y del hidden state (el output tiene tamaño del hidden)\n",
    "    def __init__(self,d_input,d_hidden):\n",
    "        super().__init__()\n",
    "        self.d_input=d_input\n",
    "        self.d_hidden=d_hidden\n",
    "        #vamos a crear un embeding propio con una densa antes de la RNN \n",
    "        self.relu=nn.ReLU()\n",
    "        self.dense1=nn.Linear(d_input,d_hidden)\n",
    "        self.rnn=nn.GRU(d_hidden,d_hidden,batch_first=True) #como no ponemos batch_first=True todo sera de dimension dim: len x hidden size\n",
    "\n",
    "    def forward(self,x,hidden):\n",
    "        x=self.relu(self.dense1(x)) # pasamos B x 1 x input y obtenemos B x 1 x hidden_dim\n",
    "        output,hidden_out=self.rnn(x,hidden) #obtenemos B x 1 x hidden_dim y 1 x B x hidden_dim \n",
    "        return output,hidden_out #obtenemos B x len_seq x hidden_dim y 1 x B x hidden_dim\n",
    "    \n",
    "    def init_hidden(self,batch_size=1):\n",
    "        return torch.zeros(1,batch_size,self.d_hidden)\n"
   ]
  },
  {
   "cell_type": "code",
   "execution_count": 7,
   "metadata": {},
   "outputs": [
    {
     "name": "stdout",
     "output_type": "stream",
     "text": [
      "torch.Size([5, 1, 15]) torch.Size([1, 5, 15])\n"
     ]
    }
   ],
   "source": [
    "#provemos lo anterior\n",
    "encoder=EncoderRNN(1,15)\n",
    "test_vector=torch.randn(5,1,1)\n",
    "output,attn=encoder(test_vector,encoder.init_hidden(5))\n",
    "print(output.shape,attn.shape)"
   ]
  },
  {
   "cell_type": "code",
   "execution_count": 8,
   "metadata": {},
   "outputs": [],
   "source": [
    "class Attention(nn.Module):\n",
    "    #este es el mecanismo de atencion, el dot product basicamente\n",
    "    def __init__(self):\n",
    "        super().__init__()\n",
    "\n",
    "\n",
    "    def forward(self,hidden_state,encoder_outputs):\n",
    "        #si el encoder_outputs es:  Batch x len_seq x hidden_dim y el hidden state que usamo de Q es 1 x B x Hidden_dim, devolvemos un context que es B x 1 x hidden_dim  y attn_weights B x 1 x len_seq\n",
    "\n",
    "        #transponemos el hidden state para hacer las multiplicaciones sobre los batches\n",
    "\n",
    "        hidden_state_transpose=hidden_state.transpose(0,1) # ahora es B x 1 x hidden\n",
    "        #el objetivo es multiplicarlo por el encoder_outputs que es  Batch x len_seq x hidden_dim, y para ello lo tenemos que transponer\n",
    "        encoder_outputs_transpose=encoder_outputs.transpose(1,2) # Batch x  hidden_dim x len_seq \n",
    "        #aqui calculamos el alignement\n",
    "\n",
    "        e=torch.bmm(hidden_state_transpose,encoder_outputs_transpose) # B x 1 x len_seq\n",
    "        att_weights=F.softmax(e,dim=2) # B x 1 x len_seq y suman 1 sobre los elementos en esa dimension\n",
    "        context=torch.bmm(att_weights,encoder_outputs) # hacemos la multiplicacion para obtener B x 1 x hidden_dim\n",
    "        return context, att_weights # return  B x 1 x hidden_dim y B x 1 x len_seq \n",
    "\n",
    "\n"
   ]
  },
  {
   "cell_type": "code",
   "execution_count": 11,
   "metadata": {},
   "outputs": [
    {
     "data": {
      "text/plain": [
       "tensor([[[0.1429, 0.1429, 0.1429, 0.1429, 0.1429, 0.1429, 0.1429]],\n",
       "\n",
       "        [[0.1429, 0.1429, 0.1429, 0.1429, 0.1429, 0.1429, 0.1429]]])"
      ]
     },
     "execution_count": 11,
     "metadata": {},
     "output_type": "execute_result"
    }
   ],
   "source": [
    "attn=Attention()\n",
    "emb_outs=torch.ones(2,7,15)\n",
    "emb_outs[:,3:4,:]=1\n",
    "context,attn=attn(torch.ones(1,2,15),emb_outs)\n",
    "attn"
   ]
  },
  {
   "cell_type": "code",
   "execution_count": 304,
   "metadata": {},
   "outputs": [],
   "source": [
    "class DecoderRNN(nn.Module):\n",
    "    #este decoder va a tener implementada la atencion\n",
    "    #empezaremos el decoder con un hidden_state 0 igual que antes\n",
    "    #el hidden state previo se le va a meter a modo de query al modelo de atencion, que va a recibir tambien los values, que \n",
    "    #son los estados hidden del encoder, de modo que lo ejecutamos en el init de aqui, el encoder\n",
    "    def __init__(self,input_dim,hidden_size):\n",
    "        super().__init__()\n",
    "        self.d_input=input_dim\n",
    "        self.d_output=input_dim\n",
    "        self.d_hidden=hidden_size\n",
    "        #un enmbeding para el input y una densa para el output\n",
    "        self.dense_in=nn.Linear(input_dim,hidden_size)\n",
    "        self.dense_out1=nn.Linear(hidden_size*2,hidden_size)\n",
    "        self.dense_out2=nn.Linear(hidden_size,input_dim) # asumienod dim_input = dim_output\n",
    "\n",
    "        self.rnn=nn.GRU(hidden_size,hidden_size,batch_first=True)#como no ponemos batch_first=True todo sera de dimension dim: len x hidden size\n",
    "\n",
    "        #el mecanismo de atencion y los hidden states del encoder\n",
    "        self.attn=Attention()\n",
    "\n",
    "    def forward(self,prev_input,hidden_state,encoder_outputs):\n",
    "        #hacer forward de esto es partiendo del hidden state anterior, sacar el nuevo\n",
    "        #y con ese calcular la atencion y el context vector, y luego juntarlo con el hidden state y meterlo en la dense y obtener el nuedo hidden\n",
    "\n",
    "        #el input debe de pasar por el embeding\n",
    "        x=F.relu(self.dense_in(prev_input)) # entra B x 1 x input_dim y sale B x 1 x Hidden_dim, el 1 es porque estamos procesando un tocken solo\n",
    "        #ahora calculamos el hidden state\n",
    "        _,new_hidden_state=self.rnn(x,hidden_state) #entran y_(t-1)=B x 1 x Hidden_dim y h_(t-1)= 1 x Batch_size x Hidden_dim y salen y_t = B x 1 x Hidden_dim y h_t = 1 x B x Hidden_dim\n",
    "\n",
    "        #con este hidden state,calculamos la attencion, se calcula en cada dimension batch independiente\n",
    "        #si el encoder_outputs es:  Batch xlen_seq x hidden_dim y el hidden state que usamo de Q es 1 x B x Hidden_dim, devolvemos un context que es B x 1 x hidden_dim  y attn_weights B x 1 x len_seq\n",
    "        context,attn_weigths=self.attn(new_hidden_state,encoder_outputs) # return  B x 1 x hidden_dim y B x 1 x len_seq \n",
    "        new_hidden_state_transpose=new_hidden_state.transpose(0,1)\n",
    "        #con este context y con el hiden state creamos un vector para meter en una dense\n",
    "        #out=self.dense_out1(torch.cat((new_hidden_state_transpose,context),dim=2))# le metemos B x 1 x 2*hidden_dim y sacamos B x 1 x hidden_dim\n",
    "        out1=self.dense_out2(context) #metemos B x 1 x hidden_dim y sacamos B x 1 x input_dim\n",
    "\n",
    "        return out1,new_hidden_state, attn_weigths #B x 1 x input_dim , 1 x B x Hidden_dim y B x 1 x len_seq\n",
    "    \n",
    "    def init_hidden(self,batch_size=1):\n",
    "        return torch.zeros(1,batch_size,self.d_hidden)"
   ]
  },
  {
   "cell_type": "code",
   "execution_count": 34,
   "metadata": {},
   "outputs": [],
   "source": [
    "decoder=DecoderRNN(1,15)\n",
    "\n",
    "a=torch.zeros(2,7,15)\n",
    "a[:,[2],:]=1\n",
    "o,h,atn=decoder(torch.randn(2,1,1),torch.randn(1,2,15),a)"
   ]
  },
  {
   "cell_type": "code",
   "execution_count": 308,
   "metadata": {},
   "outputs": [],
   "source": [
    "class DataFlip(Dataset):\n",
    "    def __init__(self,seq_len,input_dim,max_dim):\n",
    "        super().__init__()\n",
    "        self.seq_len=seq_len\n",
    "        self.input_dim=input_dim\n",
    "        self.max_dim=max_dim\n",
    "\n",
    "    def __getitem__(self, index):\n",
    "        x=torch.randint(0,50,(self.seq_len,self.input_dim)).float()/100\n",
    "        y=x.flip(1)\n",
    "        return x,y\n",
    "    def __len__(self):\n",
    "        return self.max_dim"
   ]
  },
  {
   "cell_type": "code",
   "execution_count": 19,
   "metadata": {},
   "outputs": [
    {
     "name": "stdout",
     "output_type": "stream",
     "text": [
      "tensor([[[-1.2476],\n",
      "         [-0.4090],\n",
      "         [-1.2719],\n",
      "         [ 2.5491]]]) tensor([[[ 2.5491],\n",
      "         [-1.2719],\n",
      "         [-0.4090],\n",
      "         [-1.2476]]])\n"
     ]
    }
   ],
   "source": [
    "a=torch.randn(1,4,1)\n",
    "print(a,a.flip(1)\n",
    ")"
   ]
  },
  {
   "cell_type": "code",
   "execution_count": 38,
   "metadata": {},
   "outputs": [
    {
     "name": "stdout",
     "output_type": "stream",
     "text": [
      "tensor([[[ 0.7764,  0.2985,  0.9831, -0.0340, -0.4747,  0.5859,  0.5646,\n",
      "          -0.3377,  0.0232, -1.2997, -0.1950, -0.4325,  0.4108,  0.7329,\n",
      "           0.5236],\n",
      "         [ 0.0895, -0.4322, -0.8604, -0.4994,  0.2019, -0.3698,  0.3595,\n",
      "           0.5239,  0.1578,  0.3372,  0.0829,  1.3714,  0.4039,  1.0230,\n",
      "           0.5676]]], grad_fn=<StackBackward0>)\n"
     ]
    }
   ],
   "source": [
    "# el entrenamiento\n",
    "def train(train_dataloader,encoder, decoder, init_decoder_state,optim_encoder,optim_decoder,epochs,):\n",
    "    #primero inicializamos todo\n",
    "\n",
    "\n",
    "    #bucle de epocas\n",
    "    for epoch in range(epochs):\n",
    "        #para cada epoca recorremos todos los batches\n",
    "\n",
    "        for i,(x_train,y_train) in enumerate(train_dataloader):\n",
    "\n",
    "            batch_size,len_seq,input_dim=x_train.size()\n",
    "\n",
    "            #para cada batch de datos, actualizamos los pesos \n",
    "            loss=torch.tensor(0)\n",
    "            optim_encoder.zero_grad()\n",
    "            optim_decoder.zero_grad()\n",
    "\n",
    "\n",
    "            list_encoder_hidden_states=torch.zeros(batch_size,len_seq,input_dim)\n",
    "            hidden_state_encoder=encoder.init_hidden(batch_size)\n",
    "\n",
    "            #y esto tiene dos fases, la obtener los estados del encoder, y la de procesarlo por el decoder\n",
    "            for j in range(len_seq):\n",
    "                input_aux=x_train[:,j,:]\n",
    "                #calculamoss los estados ocultos de cada instante\n",
    "                _,hidden_state_encoder=encoder(input_aux,hidden_state_encoder)\n",
    "                list_encoder_hidden_states[:,[j],:]=hidden_state_encoder\n"
   ]
  },
  {
   "cell_type": "code",
   "execution_count": 68,
   "metadata": {},
   "outputs": [
    {
     "name": "stdout",
     "output_type": "stream",
     "text": [
      "torch.Size([32, 7, 1]) torch.Size([32, 7, 1])\n"
     ]
    },
    {
     "data": {
      "text/plain": [
       "'\\n#y ahora el proceso de prediccion\\ninput_decoder=torch.torch() #aqui ponemos el token input\\nhidden_state_decoder=decoder.init_hidden(batch_size)\\n\\nfor j in range(len_seq):\\n\\n\\n    out1,new_hidden_state, attn_weigths=decoder(input_decoder,hidden_state_decoder,list_encoder_hidden_states)\\n    #tras aplicar\\n'"
      ]
     },
     "execution_count": 68,
     "metadata": {},
     "output_type": "execute_result"
    }
   ],
   "source": [
    "dataset=DataFlip(7,1,200)\n",
    "dataloader=DataLoader(dataset,batch_size=32)\n",
    "x_train,y_train=next(iter(dataloader))\n",
    "print(x_train.shape,y_train.shape)\n",
    "\n",
    "hidden_dim=15\n",
    "encoder=EncoderRNN(1,hidden_dim)\n",
    "decoder=DecoderRNN(1,hidden_dim)\n",
    "\n",
    "\n",
    "batch_size,len_seq,input_dim=x_train.size()\n",
    "\n",
    "#para cada batch de datos, actualizamos los pesos \n",
    "loss=torch.tensor(0)\n",
    "\n",
    "hidden_state_encoder=encoder.init_hidden(batch_size)\n",
    "\n",
    "#y esto tiene dos fases, la obtener los estados del encoder, y la de procesarlo por el decoder\n",
    "\n",
    "#calculamoss los estados ocultos de cada instante\n",
    "list_encoder_hidden_states,_=encoder(x_train,hidden_state_encoder)\n",
    "hidden_state_encoder_transposed=hidden_state_encoder.transpose(0,1)\n",
    "list_encoder_hidden_states[:,j,:]=hidden_state_encoder\n",
    "\n",
    "\n",
    "#y ahora el proceso de prediccion\n",
    "input_decoder=torch.torch() #aqui ponemos el token input\n",
    "hidden_state_decoder=decoder.init_hidden(batch_size)\n",
    "\n",
    "for j in range(len_seq):\n",
    "\n",
    "\n",
    "    out1,new_hidden_state, attn_weigths=decoder(input_decoder,hidden_state_decoder,list_encoder_hidden_states)\n",
    "    #tras aplicar\n"
   ]
  },
  {
   "cell_type": "code",
   "execution_count": 253,
   "metadata": {},
   "outputs": [
    {
     "name": "stdout",
     "output_type": "stream",
     "text": [
      "torch.Size([8, 1, 1])\n",
      "torch.Size([8, 1, 1])\n",
      "torch.Size([8, 1, 1])\n",
      "torch.Size([8, 1, 1])\n",
      "torch.Size([8, 1, 1])\n",
      "torch.Size([8, 1, 1])\n",
      "torch.Size([8, 1, 1])\n",
      "(8, 7)\n",
      "torch.Size([8, 1, 1])\n",
      "torch.Size([8, 1, 1])\n",
      "torch.Size([8, 1, 1])\n",
      "torch.Size([8, 1, 1])\n",
      "torch.Size([8, 1, 1])\n",
      "torch.Size([8, 1, 1])\n",
      "torch.Size([8, 1, 1])\n",
      "(8, 7)\n",
      "torch.Size([8, 1, 1])\n",
      "torch.Size([8, 1, 1])\n",
      "torch.Size([8, 1, 1])\n",
      "torch.Size([8, 1, 1])\n",
      "torch.Size([8, 1, 1])\n",
      "torch.Size([8, 1, 1])\n",
      "torch.Size([8, 1, 1])\n",
      "(8, 7)\n",
      "torch.Size([8, 1, 1])\n",
      "torch.Size([8, 1, 1])\n",
      "torch.Size([8, 1, 1])\n",
      "torch.Size([8, 1, 1])\n",
      "torch.Size([8, 1, 1])\n",
      "torch.Size([8, 1, 1])\n",
      "torch.Size([8, 1, 1])\n",
      "(8, 7)\n",
      "torch.Size([8, 1, 1])\n",
      "torch.Size([8, 1, 1])\n",
      "torch.Size([8, 1, 1])\n",
      "torch.Size([8, 1, 1])\n",
      "torch.Size([8, 1, 1])\n",
      "torch.Size([8, 1, 1])\n",
      "torch.Size([8, 1, 1])\n",
      "(8, 7)\n",
      "torch.Size([8, 1, 1])\n",
      "torch.Size([8, 1, 1])\n",
      "torch.Size([8, 1, 1])\n",
      "torch.Size([8, 1, 1])\n",
      "torch.Size([8, 1, 1])\n",
      "torch.Size([8, 1, 1])\n",
      "torch.Size([8, 1, 1])\n",
      "(8, 7)\n",
      "torch.Size([8, 1, 1])\n",
      "torch.Size([8, 1, 1])\n",
      "torch.Size([8, 1, 1])\n",
      "torch.Size([8, 1, 1])\n",
      "torch.Size([8, 1, 1])\n",
      "torch.Size([8, 1, 1])\n",
      "torch.Size([8, 1, 1])\n",
      "(8, 7)\n",
      "torch.Size([8, 1, 1])\n",
      "torch.Size([8, 1, 1])\n",
      "torch.Size([8, 1, 1])\n",
      "torch.Size([8, 1, 1])\n",
      "torch.Size([8, 1, 1])\n",
      "torch.Size([8, 1, 1])\n",
      "torch.Size([8, 1, 1])\n",
      "(8, 7)\n",
      "torch.Size([8, 1, 1])\n",
      "torch.Size([8, 1, 1])\n",
      "torch.Size([8, 1, 1])\n",
      "torch.Size([8, 1, 1])\n",
      "torch.Size([8, 1, 1])\n",
      "torch.Size([8, 1, 1])\n",
      "torch.Size([8, 1, 1])\n",
      "(8, 7)\n",
      "torch.Size([8, 1, 1])\n",
      "torch.Size([8, 1, 1])\n",
      "torch.Size([8, 1, 1])\n",
      "torch.Size([8, 1, 1])\n",
      "torch.Size([8, 1, 1])\n",
      "torch.Size([8, 1, 1])\n",
      "torch.Size([8, 1, 1])\n",
      "(8, 7)\n",
      "torch.Size([8, 1, 1])\n",
      "torch.Size([8, 1, 1])\n",
      "torch.Size([8, 1, 1])\n",
      "torch.Size([8, 1, 1])\n",
      "torch.Size([8, 1, 1])\n",
      "torch.Size([8, 1, 1])\n",
      "torch.Size([8, 1, 1])\n",
      "(8, 7)\n",
      "torch.Size([8, 1, 1])\n",
      "torch.Size([8, 1, 1])\n",
      "torch.Size([8, 1, 1])\n",
      "torch.Size([8, 1, 1])\n",
      "torch.Size([8, 1, 1])\n",
      "torch.Size([8, 1, 1])\n",
      "torch.Size([8, 1, 1])\n",
      "(8, 7)\n",
      "torch.Size([8, 1, 1])\n",
      "torch.Size([8, 1, 1])\n",
      "torch.Size([8, 1, 1])\n",
      "torch.Size([8, 1, 1])\n",
      "torch.Size([8, 1, 1])\n",
      "torch.Size([8, 1, 1])\n",
      "torch.Size([8, 1, 1])\n",
      "(8, 7)\n"
     ]
    }
   ],
   "source": [
    "dataset=DataFlip(7,1,200)\n",
    "dataloader=DataLoader(dataset,batch_size=32)\n",
    "\n",
    "hidden_dim=15\n",
    "encoder=EncoderRNN(1,hidden_dim)\n",
    "decoder=DecoderRNN(1,hidden_dim)\n",
    "\n",
    "optim_enc=optim.Adam(encoder.parameters())\n",
    "optim_dec=optim.Adam(decoder.parameters())\n",
    "\n",
    "\n",
    "batch_size,len_seq,input_dim=x_train.size()\n",
    "for i in range(13):\n",
    "\n",
    "    #para cada batch de datos, actualizamos los pesos \n",
    "    loss=torch.tensor(0)\n",
    "\n",
    "    hidden_state_encoder=encoder.init_hidden(batch_size)\n",
    "\n",
    "    #y esto tiene dos fases, la obtener los estados del encoder, y la de procesarlo por el decoder\n",
    "\n",
    "    #calculamoss los estados ocultos de cada instante\n",
    "    list_encoder_hidden_states,_=encoder(x_train,hidden_state_encoder)\n",
    "\n",
    "    prev_input=torch.ones(batch_size,1,input_dim)*-1.0\n",
    "    result=[]\n",
    "    for i in range(7):\n",
    "        out1,new_hidden_state, attn_weigths=decoder(prev_input,hidden_state_encoder,list_encoder_hidden_states)\n",
    "        prev_input=out1\n",
    "        result.append(out1.detach().numpy().squeeze(-1))\n",
    "        print(out1.shape)\n",
    "\n",
    "    result=np.array(result).squeeze(-1).swapaxes(0,1)\n",
    "    print(result.shape)"
   ]
  },
  {
   "cell_type": "code",
   "execution_count": 309,
   "metadata": {},
   "outputs": [],
   "source": [
    "dataset=DataFlip(7,1,32*40)\n",
    "dataloader=DataLoader(dataset,batch_size=32)\n",
    "x_train,y_train=next(iter(dataloader))\n",
    "\n",
    "hidden_dim=15\n",
    "encoder=EncoderRNN(1,hidden_dim)\n",
    "decoder=DecoderRNN(1,hidden_dim)\n",
    "\n",
    "optim_enc=optim.Adam(encoder.parameters(),lr=0.001)\n",
    "optim_dec=optim.Adam(decoder.parameters(),lr=0.001)\n",
    "loss_criterion=nn.MSELoss()\n",
    "\n",
    "batch_size,len_seq,input_dim=x_train.size()\n"
   ]
  },
  {
   "cell_type": "code",
   "execution_count": 310,
   "metadata": {},
   "outputs": [
    {
     "name": "stdout",
     "output_type": "stream",
     "text": [
      "0 10.709776133298874\n",
      "1 6.129006594419479\n",
      "2 6.18876987695694\n",
      "3 6.052858740091324\n",
      "4 5.971506878733635\n",
      "5 5.87524526566267\n",
      "6 5.892675220966339\n",
      "7 5.77547524869442\n",
      "8 5.756548285484314\n",
      "9 5.717782378196716\n",
      "10 5.60330730676651\n",
      "11 5.504742592573166\n",
      "12 5.288502223789692\n",
      "13 5.119991511106491\n",
      "14 4.981240466237068\n",
      "15 4.899237908422947\n",
      "16 4.776713609695435\n",
      "17 4.752850964665413\n",
      "18 4.663186900317669\n",
      "19 4.645984657108784\n"
     ]
    }
   ],
   "source": [
    "for epoca in range(20):\n",
    "    total_loss=0\n",
    "    for j,(x_train,y_train) in enumerate(dataloader):\n",
    "        optim_dec.zero_grad()\n",
    "        optim_enc.zero_grad()\n",
    "        #para cada batch de datos, actualizamos los pesos \n",
    "        loss=torch.tensor(0.0)\n",
    "        \n",
    "        hidden_state_encoder=encoder.init_hidden(batch_size)\n",
    "\n",
    "        #y esto tiene dos fases, la obtener los estados del encoder, y la de procesarlo por el decoder\n",
    "\n",
    "        #calculamoss los estados ocultos de cada instante\n",
    "        list_encoder_hidden_states,last_encoder_hidden=encoder(x_train,hidden_state_encoder)\n",
    "\n",
    "        prev_input=torch.ones(batch_size,1,input_dim)*-1.0\n",
    "\n",
    "        result=[]\n",
    "        for i in range(7):\n",
    "            out1,new_hidden_state, attn_weigths=decoder(prev_input,last_encoder_hidden,list_encoder_hidden_states)\n",
    "            last_encoder_hidden=new_hidden_state\n",
    "            prev_input=y_train[:,[i]]\n",
    "            result.append(out1)\n",
    "            loss+=loss_criterion(out1,y_train[:,[i]])\n",
    "        result2=torch.cat(result,dim=-2)\n",
    "        loss.backward()\n",
    "        optim_dec.step()\n",
    "        optim_enc.step()\n",
    "        total_loss+=loss.item()\n",
    "    print(epoca,total_loss)\n"
   ]
  },
  {
   "cell_type": "code",
   "execution_count": 312,
   "metadata": {},
   "outputs": [],
   "source": [
    "dataset=DataFlip(7,1,32*2)\n",
    "dataloader=DataLoader(dataset,batch_size=32)\n",
    "x_train,y_train=next(iter(dataloader))\n",
    "\n",
    "#para cada batch de datos, actualizamos los pesos \n",
    "loss=torch.tensor(0.0)\n",
    "\n",
    "hidden_state_encoder=encoder.init_hidden(batch_size)\n",
    "\n",
    "#y esto tiene dos fases, la obtener los estados del encoder, y la de procesarlo por el decoder\n",
    "\n",
    "#calculamoss los estados ocultos de cada instante\n",
    "list_encoder_hidden_states,last_encoder_hidden=encoder(x_train,hidden_state_encoder)\n",
    "\n",
    "prev_input=torch.ones(batch_size,1,input_dim)*-1.0\n",
    "\n",
    "result=[]\n",
    "attn=[]\n",
    "for i in range(7):\n",
    "    out1,new_hidden_state, attn_weigths=decoder(prev_input,last_encoder_hidden,list_encoder_hidden_states)\n",
    "    last_encoder_hidden=new_hidden_state\n",
    "    prev_input=out1\n",
    "    result.append(out1)\n",
    "    attn.append(attn_weigths)\n",
    "    loss+=loss_criterion(out1,y_train[:,[i]])\n",
    "result2=torch.cat(result,dim=-2)\n",
    "atten=torch.cat(attn,dim=-2)\n"
   ]
  },
  {
   "cell_type": "code",
   "execution_count": 313,
   "metadata": {},
   "outputs": [
    {
     "data": {
      "text/plain": [
       "array([[0.2, 0.2, 0.2, 0.1, 0.1, 0.1, 0.1],\n",
       "       [0.2, 0.2, 0.2, 0.1, 0.1, 0.1, 0.1],\n",
       "       [0.2, 0.2, 0.2, 0.1, 0.1, 0.1, 0.1],\n",
       "       [0.2, 0.1, 0.1, 0.1, 0.1, 0.1, 0.1],\n",
       "       [0.2, 0.1, 0.1, 0.1, 0.1, 0.2, 0.2],\n",
       "       [0.2, 0.1, 0.1, 0.1, 0.2, 0.2, 0.2],\n",
       "       [0.1, 0.1, 0.1, 0.1, 0.2, 0.2, 0.2]], dtype=float32)"
      ]
     },
     "execution_count": 313,
     "metadata": {},
     "output_type": "execute_result"
    }
   ],
   "source": [
    "atten[1].detach().numpy().round(1)"
   ]
  },
  {
   "cell_type": "code",
   "execution_count": 314,
   "metadata": {},
   "outputs": [
    {
     "data": {
      "text/plain": [
       "<matplotlib.image.AxesImage at 0x7fbab317fa60>"
      ]
     },
     "execution_count": 314,
     "metadata": {},
     "output_type": "execute_result"
    },
    {
     "data": {
      "image/png": "[encoded data removed]",
      "text/plain": [
       "<Figure size 480x480 with 1 Axes>"
      ]
     },
     "metadata": {},
     "output_type": "display_data"
    }
   ],
   "source": [
    "plt.matshow(atten[9].detach().numpy())"
   ]
  },
  {
   "cell_type": "code",
   "execution_count": 315,
   "metadata": {},
   "outputs": [
    {
     "name": "stdout",
     "output_type": "stream",
     "text": [
      "tensor([[0.1829, 0.0500],\n",
      "        [0.2333, 0.4600],\n",
      "        [0.2565, 0.2900],\n",
      "        [0.2732, 0.2500],\n",
      "        [0.2876, 0.1000],\n",
      "        [0.2999, 0.3200],\n",
      "        [0.3090, 0.4800]], grad_fn=<CatBackward0>)\n"
     ]
    }
   ],
   "source": [
    "print(torch.cat([result2[2],y_train[2]],dim=-1))"
   ]
  },
  {
   "cell_type": "code",
   "execution_count": 81,
   "metadata": {},
   "outputs": [
    {
     "name": "stdout",
     "output_type": "stream",
     "text": [
      "torch.Size([7, 5, 3]) torch.Size([5, 7, 3]) tensor(True)\n"
     ]
    }
   ],
   "source": [
    "#vamos a probar como funciona la GRU y el output y tal\n",
    "RNN=nn.GRU(15,3,batch_first=True)\n",
    "x_test=torch.randint(0,100,(5,7,15)).float()\n",
    "hidden_state_encoder=torch.ones(1,5,3)\n",
    "list_encoder_hidden_states=torch.zeros(7,5,3)\n",
    "for j in range(7):\n",
    "    input_aux=x_test[:,[j],:]\n",
    "    #calculamoss los estados ocultos de cada instante\n",
    "    _,hidden_state_encoder=RNN(input_aux,hidden_state_encoder)\n",
    "    list_encoder_hidden_states[j]=hidden_state_encoder\n",
    "\n",
    "output_total,_=RNN(x_test,torch.ones(1,5,3))\n",
    "print(list_encoder_hidden_states.shape,output_total.shape,torch.all(list_encoder_hidden_states==output_total.transpose(0,1)))\n"
   ]
  },
  {
   "cell_type": "code",
   "execution_count": null,
   "metadata": {},
   "outputs": [],
   "source": []
  }
 ],
 "metadata": {
  "kernelspec": {
   "display_name": "pytorch",
   "language": "python",
   "name": "python3"
  },
  "language_info": {
   "codemirror_mode": {
    "name": "ipython",
    "version": 3
   },
   "file_extension": ".py",
   "mimetype": "text/x-python",
   "name": "python",
   "nbconvert_exporter": "python",
   "pygments_lexer": "ipython3",
   "version": "3.10.8"
  },
  "orig_nbformat": 4
 },
 "nbformat": 4,
 "nbformat_minor": 2
}
