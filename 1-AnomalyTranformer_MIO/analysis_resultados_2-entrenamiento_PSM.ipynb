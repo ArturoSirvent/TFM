{
 "cells": [
  {
   "attachments": {},
   "cell_type": "markdown",
   "metadata": {},
   "source": [
    "# Analisis del modelo entrenado\n",
    "\n",
    "He entrenado el modelo en el HPMOON con los datos de PSM, de la misma forma que indicaba el paper, practicamente calcado el entrenamiento, ahora me falta hacer la inferencia e investigar como funciona el modelo. \n",
    "\n",
    "No creo que pueda hacer inferencia en local, pero lo intentaré.\n",
    "\n"
   ]
  },
  {
   "cell_type": "code",
   "execution_count": null,
   "metadata": {},
   "outputs": [
    {
     "ename": "",
     "evalue": "",
     "output_type": "error",
     "traceback": [
      "\u001b[1;31mRunning cells with '/bin/python3.8' requires the ipykernel package.\n",
      "\u001b[1;31mRun the following command to install 'ipykernel' into the Python environment. \n",
      "\u001b[1;31mCommand: '/bin/python3.8 -m pip install ipykernel -U --user --force-reinstall'"
     ]
    }
   ],
   "source": [
    "#tenemos que agregar al sys path el directorio\n",
    "import sys\n",
    "AssDis_path=\"/home/asirvent/extra_repos/Anomaly-Transformer\"\n",
    "sys.path.append(AssDis_path)"
   ]
  },
  {
   "cell_type": "code",
   "execution_count": null,
   "metadata": {},
   "outputs": [
    {
     "ename": "",
     "evalue": "",
     "output_type": "error",
     "traceback": [
      "\u001b[1;31mRunning cells with '/bin/python3.8' requires the ipykernel package.\n",
      "\u001b[1;31mRun the following command to install 'ipykernel' into the Python environment. \n",
      "\u001b[1;31mCommand: '/bin/python3.8 -m pip install ipykernel -U --user --force-reinstall'"
     ]
    }
   ],
   "source": [
    "\n",
    "import numpy as np \n",
    "import torch\n",
    "import matplotlib.pyplot as plt \n",
    "import time\n",
    "from torch import nn\n",
    "\n",
    "import os\n",
    "import random\n",
    "from torch.utils.data import Dataset\n",
    "from torch.utils.data import DataLoader\n",
    "from PIL import Image\n",
    "import numpy as np\n",
    "import collections\n",
    "import numbers\n",
    "import math\n",
    "import pandas as pd\n",
    "from sklearn.preprocessing import StandardScaler\n",
    "import pickle\n",
    "\n",
    "from model.AnomalyTransformer import AnomalyTransformer\n"
   ]
  },
  {
   "cell_type": "code",
   "execution_count": 3,
   "metadata": {},
   "outputs": [],
   "source": [
    "BASE_dir=\"/home/asirvent/extra_repos/TFM/1-AnomalyTranformer_MIO/ejecucion_remota\"\n",
    "dataset_name=\"PSM\"\n",
    "\n",
    "datapath=f\"{BASE_dir}/data/{dataset_name}\"\n",
    "model_save_path=f\"{BASE_dir}/results_y_models/1-PSM_models\"\n",
    "\n",
    "if (not os.path.exists(model_save_path)):\n",
    "    print(f\"creado {model_save_path}\")\n",
    "    os.mkdir(model_save_path)\n",
    "\n"
   ]
  },
  {
   "cell_type": "code",
   "execution_count": 4,
   "metadata": {},
   "outputs": [],
   "source": [
    "\n",
    "#funcion para ocntar los parametros del modelo \n",
    "def count_parameters(model):\n",
    "    total=sum(p.numel() for p in model.parameters() if p.requires_grad)\n",
    "    print(f\"Total trainable parameters: {total}\")\n",
    "    return total\n"
   ]
  },
  {
   "cell_type": "code",
   "execution_count": 5,
   "metadata": {},
   "outputs": [],
   "source": [
    "\n",
    "class PSMSegLoader(object): ##y esto no deberia heredar de dataset?\n",
    "    def __init__(self, data_path, win_size, step, mode=\"train\"):\n",
    "        self.mode = mode\n",
    "        self.step = step\n",
    "        self.win_size = win_size\n",
    "        self.scaler = StandardScaler()\n",
    "        data = pd.read_csv(data_path + '/train.csv')\n",
    "        data = data.values[:100, 1:]\n",
    "\n",
    "        data = np.nan_to_num(data)\n",
    "\n",
    "        self.scaler.fit(data)\n",
    "        data = self.scaler.transform(data)\n",
    "        test_data = pd.read_csv(data_path + '/test.csv')\n",
    "\n",
    "        test_data = test_data.values[:2000, 1:]\n",
    "        test_data = np.nan_to_num(test_data)\n",
    "\n",
    "        self.test = self.scaler.transform(test_data)\n",
    "\n",
    "        self.train = data\n",
    "        self.val = self.test\n",
    "\n",
    "        self.test_labels = pd.read_csv(data_path + '/test_label.csv').values[:, 1:] ## y los labels de train ?\n",
    "\n",
    "        print(\"test:\", self.test.shape)\n",
    "        print(\"train:\", self.train.shape)\n",
    "\n",
    "    def __len__(self):\n",
    "        \"\"\"\n",
    "        Number of images in the object dataset.\n",
    "        \"\"\"\n",
    "        if self.mode == \"train\":\n",
    "            return (self.train.shape[0] - self.win_size) // self.step + 1\n",
    "        elif (self.mode == 'val'):\n",
    "            return (self.val.shape[0] - self.win_size) // self.step + 1\n",
    "        elif (self.mode == 'test'):\n",
    "            return (self.test.shape[0] - self.win_size) // self.step + 1\n",
    "        else:\n",
    "            return (self.test.shape[0] - self.win_size) // self.win_size + 1\n",
    "\n",
    "    def __getitem__(self, index):\n",
    "        index = index * self.step\n",
    "        if self.mode == \"train\":\n",
    "            return np.float32(self.train[index:index + self.win_size]), np.float32(self.test_labels[0:self.win_size])\n",
    "        elif (self.mode == 'val'):\n",
    "            return np.float32(self.val[index:index + self.win_size]), np.float32(self.test_labels[0:self.win_size])\n",
    "        elif (self.mode == 'test'):\n",
    "            return np.float32(self.test[index:index + self.win_size]), np.float32(self.test_labels[index:index + self.win_size])\n",
    "        else:\n",
    "            return np.float32(self.test[\n",
    "                              index // self.step * self.win_size:index // self.step * self.win_size + self.win_size]), np.float32(\n",
    "                self.test_labels[index // self.step * self.win_size:index // self.step * self.win_size + self.win_size])\n",
    "\n",
    "\n",
    "\n",
    "def get_loader_segment(data_path, batch_size, win_size=100, step=100, mode='train', dataset='KDD'):\n",
    "    # if (dataset == 'SMD'):\n",
    "    #     dataset = SMDSegLoader(data_path, win_size, step, mode)\n",
    "    # elif (dataset == 'MSL'):\n",
    "    #     dataset = MSLSegLoader(data_path, win_size, 1, mode)\n",
    "    # elif (dataset == 'SMAP'):\n",
    "    #     dataset = SMAPSegLoader(data_path, win_size, 1, mode)\n",
    "    # elif (dataset == 'PSM'):\n",
    "\n",
    "    dataset = PSMSegLoader(data_path, win_size, 1, mode)\n",
    "\n",
    "    shuffle = False\n",
    "    if mode == 'train':\n",
    "        shuffle = True\n",
    "\n",
    "    data_loader = DataLoader(dataset=dataset,\n",
    "                             batch_size=batch_size,\n",
    "                             shuffle=shuffle,\n",
    "                             num_workers=0)\n",
    "    return data_loader\n",
    "\n",
    "\n",
    "\n",
    "class EarlyStopping:\n",
    "    def __init__(self, patience=7, verbose=False, dataset_name='', delta=0):\n",
    "        self.patience = patience\n",
    "        self.verbose = verbose\n",
    "        self.counter = 0\n",
    "        self.best_score = None\n",
    "        self.best_score2 = None\n",
    "        self.early_stop = False\n",
    "        self.val_loss_min = np.Inf\n",
    "        self.val_loss2_min = np.Inf\n",
    "        self.delta = delta\n",
    "        self.dataset = dataset_name\n",
    "\n",
    "    def __call__(self, val_loss, val_loss2, model, path):\n",
    "        score = -val_loss\n",
    "        score2 = -val_loss2\n",
    "        if self.best_score is None:\n",
    "            self.best_score = score\n",
    "            self.best_score2 = score2\n",
    "            self.save_checkpoint(val_loss, val_loss2, model, path)\n",
    "        elif score < self.best_score + self.delta or score2 < self.best_score2 + self.delta:\n",
    "            self.counter += 1\n",
    "            print(f'EarlyStopping counter: {self.counter} out of {self.patience}')\n",
    "            if self.counter >= self.patience:\n",
    "                self.early_stop = True\n",
    "        else:\n",
    "            self.best_score = score\n",
    "            self.best_score2 = score2\n",
    "            self.save_checkpoint(val_loss, val_loss2, model, path)\n",
    "            self.counter = 0\n",
    "\n",
    "    def save_checkpoint(self, val_loss, val_loss2, model, path):\n",
    "        if self.verbose:\n",
    "            print(f'Validation loss decreased ({self.val_loss_min:.6f} --> {val_loss:.6f}).  Saving model ...')\n",
    "        torch.save(model.state_dict(), os.path.join(path, str(self.dataset) + '_checkpoint.pth'))\n",
    "        self.val_loss_min = val_loss\n",
    "        self.val_loss2_min = val_loss2\n",
    "\n",
    "\n",
    "\n",
    "#para el modelo en sí\n",
    "\n",
    "def my_kl_loss(p, q):\n",
    "    res = p * (torch.log(p + 0.0001) - torch.log(q + 0.0001))\n",
    "    return torch.mean(torch.sum(res, dim=-1), dim=1)\n",
    "\n",
    "\n",
    "def adjust_learning_rate(optimizer, epoch, lr_):\n",
    "    lr_adjust = {epoch: lr_ * (0.5 ** ((epoch - 1) // 1))}\n",
    "    if epoch in lr_adjust.keys():\n",
    "        lr = lr_adjust[epoch]\n",
    "        for param_group in optimizer.param_groups:\n",
    "            param_group['lr'] = lr\n",
    "        print('Updating learning rate to {}'.format(lr))\n",
    "        \n"
   ]
  },
  {
   "cell_type": "code",
   "execution_count": 6,
   "metadata": {},
   "outputs": [
    {
     "name": "stdout",
     "output_type": "stream",
     "text": [
      "test: (2000, 25)\n",
      "train: (100, 25)\n"
     ]
    }
   ],
   "source": [
    "test_loader = get_loader_segment(datapath, batch_size=16, win_size=100,mode='test',dataset=dataset_name)\n"
   ]
  },
  {
   "cell_type": "code",
   "execution_count": 7,
   "metadata": {},
   "outputs": [],
   "source": [
    "a=next(iter(test_loader))"
   ]
  },
  {
   "cell_type": "code",
   "execution_count": 8,
   "metadata": {},
   "outputs": [
    {
     "name": "stdout",
     "output_type": "stream",
     "text": [
      "torch.Size([16, 100, 25]) torch.Size([16, 100, 1])\n"
     ]
    }
   ],
   "source": [
    "print(a[0].shape,a[1].shape)"
   ]
  },
  {
   "cell_type": "code",
   "execution_count": 9,
   "metadata": {},
   "outputs": [
    {
     "data": {
      "text/plain": [
       "[<matplotlib.lines.Line2D at 0x7fc9176f5fd0>]"
      ]
     },
     "execution_count": 9,
     "metadata": {},
     "output_type": "execute_result"
    },
    {
     "data": {
      "image/png": "[encoded data removed]",
      "text/plain": [
       "<Figure size 432x288 with 1 Axes>"
      ]
     },
     "metadata": {
      "needs_background": "light"
     },
     "output_type": "display_data"
    }
   ],
   "source": [
    "plt.plot(a[0][1,:,1])"
   ]
  },
  {
   "cell_type": "code",
   "execution_count": 20,
   "metadata": {},
   "outputs": [],
   "source": [
    "os.environ[\"CUDA_LAUNCH_BLOCKING\"] = \"1\"\n"
   ]
  },
  {
   "cell_type": "code",
   "execution_count": 28,
   "metadata": {},
   "outputs": [
    {
     "data": {
      "text/plain": [
       "1"
      ]
     },
     "execution_count": 28,
     "metadata": {},
     "output_type": "execute_result"
    }
   ],
   "source": [
    "torch.cuda.device_count()\n"
   ]
  },
  {
   "cell_type": "code",
   "execution_count": null,
   "metadata": {},
   "outputs": [],
   "source": []
  }
 ],
 "metadata": {
  "kernelspec": {
   "display_name": "pytorch_env",
   "language": "python",
   "name": "python3"
  },
  "language_info": {
   "codemirror_mode": {
    "name": "ipython",
    "version": 3
   },
   "file_extension": ".py",
   "mimetype": "text/x-python",
   "name": "python",
   "nbconvert_exporter": "python",
   "pygments_lexer": "ipython3",
   "version": "3.8.13"
  },
  "orig_nbformat": 4
 },
 "nbformat": 4,
 "nbformat_minor": 2
}
